{
 "cells": [
  {
   "cell_type": "code",
   "execution_count": null,
   "metadata": {},
   "outputs": [],
   "source": [
    "import re, sys\n",
    "from pathlib import Path\n",
    "\n",
    "from phonopy.feature_matrix import import_features"
   ]
  },
  {
   "cell_type": "code",
   "execution_count": 2,
   "metadata": {},
   "outputs": [
    {
     "name": "stdout",
     "output_type": "stream",
     "text": [
      "symbols ['ϵ', '⋊', '⋉', 'a', 'b']\n",
      "vowels ['a']\n",
      "features ['sym', 'begin/end', 'C/V', 'syllabic', 'consonantal', 'sonorant', 'continuant', 'delayed.release', 'approximant', 'LABIAL', 'DORSAL', 'high', 'low', 'front', 'back']\n",
      "ftr_matrix   sym begin/end C/V syllabic consonantal sonorant continuant delayed.release  \\\n",
      "ϵ   0         0   0        0           0        0          0               0   \n",
      "⋊   +         +   0        0           0        0          0               0   \n",
      "⋉   +         -   0        0           0        0          0               0   \n",
      "a   +         0   -        +           -        +          +               0   \n",
      "b   +         0   +        -           +        -          -               -   \n",
      "\n",
      "  approximant LABIAL DORSAL high low front back  \n",
      "ϵ           0      0      0    0   0     0    0  \n",
      "⋊           0      0      0    0   0     0    0  \n",
      "⋉           0      0      0    0   0     0    0  \n",
      "a           +      -      +    -   +     -    -  \n",
      "b           -      +      -    0   0     0    0  \n",
      "ftr_matrix_vec [[ 0.  0.  0.  0.  0.  0.  0.  0.  0.  0.  0.  0.  0.  0.  0.]\n",
      " [ 1.  1.  0.  0.  0.  0.  0.  0.  0.  0.  0.  0.  0.  0.  0.]\n",
      " [ 1. -1.  0.  0.  0.  0.  0.  0.  0.  0.  0.  0.  0.  0.  0.]\n",
      " [ 1.  0. -1.  1. -1.  1.  1.  0.  1. -1.  1. -1.  1. -1. -1.]\n",
      " [ 1.  0.  1. -1.  1. -1. -1. -1. -1.  1. -1.  0.  0.  0.  0.]]\n",
      "sym2idx {'ϵ': 0, '⋊': 1, '⋉': 2, 'a': 3, 'b': 4}\n",
      "idx2sym {'ϵ': 'ϵ', '⋊': '⋊', '⋉': '⋉', 'a': 'a', 'b': 'b'}\n",
      "sym2ftrs {'ϵ': {'sym': '0', 'begin/end': '0', 'C/V': '0', 'syllabic': '0', 'consonantal': '0', 'sonorant': '0', 'continuant': '0', 'delayed.release': '0', 'approximant': '0', 'LABIAL': '0', 'DORSAL': '0', 'high': '0', 'low': '0', 'front': '0', 'back': '0'}, '⋊': {'sym': '+', 'begin/end': '+', 'C/V': '0', 'syllabic': '0', 'consonantal': '0', 'sonorant': '0', 'continuant': '0', 'delayed.release': '0', 'approximant': '0', 'LABIAL': '0', 'DORSAL': '0', 'high': '0', 'low': '0', 'front': '0', 'back': '0'}, '⋉': {'sym': '+', 'begin/end': '-', 'C/V': '0', 'syllabic': '0', 'consonantal': '0', 'sonorant': '0', 'continuant': '0', 'delayed.release': '0', 'approximant': '0', 'LABIAL': '0', 'DORSAL': '0', 'high': '0', 'low': '0', 'front': '0', 'back': '0'}, 'a': {'sym': '+', 'begin/end': '0', 'C/V': '-', 'syllabic': '+', 'consonantal': '-', 'sonorant': '+', 'continuant': '+', 'delayed.release': '0', 'approximant': '+', 'LABIAL': '-', 'DORSAL': '+', 'high': '-', 'low': '+', 'front': '-', 'back': '-'}, 'b': {'sym': '+', 'begin/end': '0', 'C/V': '+', 'syllabic': '-', 'consonantal': '+', 'sonorant': '-', 'continuant': '-', 'delayed.release': '-', 'approximant': '-', 'LABIAL': '+', 'DORSAL': '-', 'high': '0', 'low': '0', 'front': '0', 'back': '0'}}\n",
      "sym2ftr_vec {'ϵ': ('0', '0', '0', '0', '0', '0', '0', '0', '0', '0', '0', '0', '0', '0', '0'), '⋊': ('+', '+', '0', '0', '0', '0', '0', '0', '0', '0', '0', '0', '0', '0', '0'), '⋉': ('+', '-', '0', '0', '0', '0', '0', '0', '0', '0', '0', '0', '0', '0', '0'), 'a': ('+', '0', '-', '+', '-', '+', '+', '0', '+', '-', '+', '-', '+', '-', '-'), 'b': ('+', '0', '+', '-', '+', '-', '-', '-', '-', '+', '-', '0', '0', '0', '0')}\n"
     ]
    },
    {
     "name": "stderr",
     "output_type": "stream",
     "text": [
      "/home/colin/Code/Python/phtrs/phtrs/feature_matrix.py:291: FutureWarning: Downcasting behavior in `replace` is deprecated and will be removed in a future version. To retain the old behavior, explicitly call `result.infer_objects(copy=False)`. To opt-in to the future behavior, set `pd.set_option('future.no_silent_downcasting', True)`\n",
      "  ftr_matrix_vec = ftr_matrix_vec.replace(to_replace=key, value=val)\n"
     ]
    }
   ],
   "source": [
    "feature_file = Path.home() \\\n",
    "    / 'Code/Python/dymorph/features/hayes_features.csv'\n",
    "ftr_matrix = import_features(feature_file,\n",
    "                segments=['b', 'a'],\n",
    "                verbose=False)\n",
    "\n",
    "for key, val in vars(ftr_matrix).items():\n",
    "    print(key, val)\n"
   ]
  }
 ],
 "metadata": {
  "kernelspec": {
   "display_name": "py3_13",
   "language": "python",
   "name": "python3"
  },
  "language_info": {
   "codemirror_mode": {
    "name": "ipython",
    "version": 3
   },
   "file_extension": ".py",
   "mimetype": "text/x-python",
   "name": "python",
   "nbconvert_exporter": "python",
   "pygments_lexer": "ipython3",
   "version": "3.13.0"
  }
 },
 "nbformat": 4,
 "nbformat_minor": 2
}
